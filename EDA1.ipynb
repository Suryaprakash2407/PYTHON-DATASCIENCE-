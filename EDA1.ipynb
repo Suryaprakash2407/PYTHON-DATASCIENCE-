{
 "cells": [
  {
   "cell_type": "markdown",
   "id": "997fe4e7",
   "metadata": {},
   "source": [
    "# Black Friday and EDA Dataset"
   ]
  },
  {
   "cell_type": "code",
   "execution_count": null,
   "id": "d498c343",
   "metadata": {},
   "outputs": [],
   "source": [
    "import pandas as pd\n",
    "import numpy as np\n",
    "import matplotlib.pyplot as plt\n",
    "import seaborn as sns \n",
    "%matplotlib inline\n",
    "import warnings \n",
    "warnings.filterwarnings('ignore')"
   ]
  },
  {
   "cell_type": "code",
   "execution_count": null,
   "id": "6994094b",
   "metadata": {},
   "outputs": [],
   "source": [
    "df1 = pd.read_csv('test.csv')# importing the test csv\n",
    "df2 = pd.read_csv('train.csv')# importing the train csv"
   ]
  },
  {
   "cell_type": "code",
   "execution_count": null,
   "id": "a89dfd5f",
   "metadata": {},
   "outputs": [],
   "source": [
    " df1.head(2)"
   ]
  },
  {
   "cell_type": "code",
   "execution_count": null,
   "id": "1258c2b1",
   "metadata": {},
   "outputs": [],
   "source": [
    "df2.head(2)"
   ]
  },
  {
   "cell_type": "code",
   "execution_count": null,
   "id": "fcb1a250",
   "metadata": {},
   "outputs": [],
   "source": [
    "df1.shape"
   ]
  },
  {
   "cell_type": "code",
   "execution_count": null,
   "id": "73ecb87a",
   "metadata": {},
   "outputs": [],
   "source": [
    "df2.shape"
   ]
  },
  {
   "cell_type": "markdown",
   "id": "f39d0234",
   "metadata": {},
   "source": [
    "# Appending the train and test "
   ]
  },
  {
   "cell_type": "code",
   "execution_count": null,
   "id": "6e309a55",
   "metadata": {},
   "outputs": [],
   "source": [
    "df=df2.append(df1)\n",
    "df.head()"
   ]
  },
  {
   "cell_type": "code",
   "execution_count": null,
   "id": "1fd96295",
   "metadata": {},
   "outputs": [],
   "source": [
    "df.info()"
   ]
  },
  {
   "cell_type": "code",
   "execution_count": null,
   "id": "b84969a3",
   "metadata": {},
   "outputs": [],
   "source": [
    "df.describe()"
   ]
  },
  {
   "cell_type": "code",
   "execution_count": null,
   "id": "8da6a4dc",
   "metadata": {},
   "outputs": [],
   "source": [
    "df.drop(['User_ID'],axis=1,inplace=True)\n",
    "# Here the user_ID is deleted because it is a unique id and therefore we can delete it \n",
    "# Here Axis is important because we need to drop column wise so axis is 1;\n",
    "# Inplace is True "
   ]
  },
  {
   "cell_type": "code",
   "execution_count": null,
   "id": "880ec94a",
   "metadata": {},
   "outputs": [],
   "source": [
    "df.head(2)"
   ]
  },
  {
   "cell_type": "markdown",
   "id": "bbeff98d",
   "metadata": {},
   "source": [
    "# Fixing the categorical Features Gender"
   ]
  },
  {
   "cell_type": "code",
   "execution_count": null,
   "id": "9d858e5a",
   "metadata": {},
   "outputs": [],
   "source": [
    "df['Gender']=df['Gender'].map({'F':0,'M':1})\n",
    "df.head()"
   ]
  },
  {
   "cell_type": "code",
   "execution_count": null,
   "id": "be5ba7b0",
   "metadata": {},
   "outputs": [],
   "source": [
    "pd.get_dummies(df['Gender'],drop_first=True)\n",
    "# This can be used to get the gender value. "
   ]
  },
  {
   "cell_type": "markdown",
   "id": "5e1f6ea3",
   "metadata": {},
   "source": [
    "# Handling teh categorical feature Age"
   ]
  },
  {
   "cell_type": "code",
   "execution_count": null,
   "id": "fa4ba70d",
   "metadata": {},
   "outputs": [],
   "source": [
    "df['Age'].value_counts()"
   ]
  },
  {
   "cell_type": "code",
   "execution_count": null,
   "id": "e7401ed6",
   "metadata": {},
   "outputs": [],
   "source": [
    "# Here we have used Map\n",
    "df['Age']=df['Age'].map({'0-17':1,'18-25':2,'26-35':3,'36-45':4,'46-50':5,'51-55':6,'55+':7})"
   ]
  },
  {
   "cell_type": "code",
   "execution_count": null,
   "id": "168cc1e9",
   "metadata": {},
   "outputs": [],
   "source": [
    "df.head(5)"
   ]
  },
  {
   "cell_type": "code",
   "execution_count": null,
   "id": "2916c297",
   "metadata": {},
   "outputs": [],
   "source": [
    "## Here is the second method of doing so using label encoder\n",
    "# Import label encoder\n",
    "from sklearn import preprocessing\n",
    "  \n",
    "# label_encoder object knows how to understand word labels.\n",
    "label_encoder = preprocessing.LabelEncoder()\n",
    "  \n",
    "# Encode labels in column 'species'.\n",
    "df['Age1']= label_encoder.fit_transform(df['Age'])\n",
    "  \n",
    "df['Age1'].unique()"
   ]
  },
  {
   "cell_type": "code",
   "execution_count": null,
   "id": "44cf52cc",
   "metadata": {},
   "outputs": [],
   "source": [
    "df.head(5)"
   ]
  },
  {
   "cell_type": "code",
   "execution_count": null,
   "id": "420db419",
   "metadata": {},
   "outputs": [],
   "source": [
    "df.drop(['Age1'],axis=1,inplace=True)"
   ]
  },
  {
   "cell_type": "code",
   "execution_count": null,
   "id": "666033ae",
   "metadata": {},
   "outputs": [],
   "source": [
    "df.head(2)"
   ]
  },
  {
   "cell_type": "markdown",
   "id": "0d42d68b",
   "metadata": {},
   "source": [
    "# Handling the categorical feature city_category"
   ]
  },
  {
   "cell_type": "code",
   "execution_count": null,
   "id": "f0d4c27e",
   "metadata": {},
   "outputs": [],
   "source": [
    "df_city=pd.get_dummies(df['City_Category'],drop_first=True)\n",
    "df_city.head()\n",
    "# pandas.get_dummies() is used for data manipulation. It converts categorical data into dummy or indicator variables."
   ]
  },
  {
   "cell_type": "code",
   "execution_count": null,
   "id": "9f771453",
   "metadata": {},
   "outputs": [],
   "source": [
    "df=pd.concat([df,df_city],axis=1)\n",
    "df.head()"
   ]
  },
  {
   "cell_type": "code",
   "execution_count": null,
   "id": "d42565a4",
   "metadata": {},
   "outputs": [],
   "source": [
    "df.drop(['City_Category'],axis=1,inplace=True)"
   ]
  },
  {
   "cell_type": "code",
   "execution_count": null,
   "id": "6179a78a",
   "metadata": {},
   "outputs": [],
   "source": [
    "df.head(7)"
   ]
  },
  {
   "cell_type": "markdown",
   "id": "23ef4a89",
   "metadata": {},
   "source": [
    "# Missing Values"
   ]
  },
  {
   "cell_type": "code",
   "execution_count": null,
   "id": "e1e99183",
   "metadata": {},
   "outputs": [],
   "source": [
    "df.isnull().sum()"
   ]
  },
  {
   "cell_type": "code",
   "execution_count": null,
   "id": "518c28cd",
   "metadata": {},
   "outputs": [],
   "source": [
    "## Focus on replacing missing values\n",
    "df['Product_Category_2'].unique()\n",
    "# Here the Quantitative is Discrete."
   ]
  },
  {
   "cell_type": "code",
   "execution_count": null,
   "id": "fe3ea167",
   "metadata": {},
   "outputs": [],
   "source": [
    "df['Product_Category_1'].unique()\n",
    "# Here the Quantitative is Discrete. So it is repeated n number of times."
   ]
  },
  {
   "cell_type": "code",
   "execution_count": null,
   "id": "a5fc0f9e",
   "metadata": {},
   "outputs": [],
   "source": [
    "## Replace the missing Values with Mode\n",
    "df['Product_Category_2']=df['Product_Category_2'].fillna(df['Product_Category_2'].mode()[0])\n",
    "# Here fillna(df['Product_Category_2'].mode()[0]) is used to get the index position of the value 8.0 "
   ]
  },
  {
   "cell_type": "code",
   "execution_count": null,
   "id": "ccbe061c",
   "metadata": {},
   "outputs": [],
   "source": [
    "# Here we are changig the respective null value\n",
    "df['Product_Category_3']=df['Product_Category_3'].fillna(df['Product_Category_3'].mode()[0])"
   ]
  },
  {
   "cell_type": "code",
   "execution_count": null,
   "id": "7001d09e",
   "metadata": {},
   "outputs": [],
   "source": [
    "df.head(5)"
   ]
  },
  {
   "cell_type": "markdown",
   "id": "f5929311",
   "metadata": {},
   "source": [
    "**Changing the Stay_In_Current_City_Years into respective to the required observation**"
   ]
  },
  {
   "cell_type": "code",
   "execution_count": null,
   "id": "d39f2aaf",
   "metadata": {},
   "outputs": [],
   "source": [
    "df['Stay_In_Current_City_Years'].unique()"
   ]
  },
  {
   "cell_type": "code",
   "execution_count": null,
   "id": "7b335ba4",
   "metadata": {},
   "outputs": [],
   "source": [
    "df['Stay_In_Current_City_Years']=df['Stay_In_Current_City_Years'].str.replace('+','')"
   ]
  },
  {
   "cell_type": "code",
   "execution_count": null,
   "id": "1eaa9272",
   "metadata": {},
   "outputs": [],
   "source": [
    "df.head()"
   ]
  },
  {
   "cell_type": "markdown",
   "id": "a448401f",
   "metadata": {},
   "source": [
    "**Conversion of the required datatype**"
   ]
  },
  {
   "cell_type": "code",
   "execution_count": null,
   "id": "2290ba00",
   "metadata": {},
   "outputs": [],
   "source": [
    "df['Stay_In_Current_City_Years']=df['Stay_In_Current_City_Years'].astype('int')"
   ]
  },
  {
   "cell_type": "code",
   "execution_count": null,
   "id": "49a44b28",
   "metadata": {},
   "outputs": [],
   "source": [
    "df['B']=df['B'].astype(int)"
   ]
  },
  {
   "cell_type": "code",
   "execution_count": null,
   "id": "d88a8930",
   "metadata": {},
   "outputs": [],
   "source": [
    "df['C']=df['C'].astype('int')"
   ]
  },
  {
   "cell_type": "code",
   "execution_count": null,
   "id": "8c2d1b34",
   "metadata": {},
   "outputs": [],
   "source": [
    "df.info()"
   ]
  },
  {
   "cell_type": "markdown",
   "id": "36503c41",
   "metadata": {},
   "source": [
    "# Visualization "
   ]
  },
  {
   "cell_type": "code",
   "execution_count": null,
   "id": "b40a1311",
   "metadata": {},
   "outputs": [],
   "source": [
    "plt.figure(figsize=(17,5))\n",
    "sns.barplot('Age','Purchase',data=df,hue='Gender')\n",
    "plt.show()"
   ]
  },
  {
   "cell_type": "markdown",
   "id": "4ac82713",
   "metadata": {},
   "source": [
    "**visualize of purchase with occupation**"
   ]
  },
  {
   "cell_type": "code",
   "execution_count": null,
   "id": "49f41500",
   "metadata": {},
   "outputs": [],
   "source": [
    "plt.figure(figsize=(17,5))\n",
    "sns.barplot('Occupation','Purchase',data=df,hue='Gender')"
   ]
  },
  {
   "cell_type": "code",
   "execution_count": null,
   "id": "22408ceb",
   "metadata": {},
   "outputs": [],
   "source": [
    "plt.figure(figsize=(17,5))\n",
    "sns.barplot('Product_Category_1','Purchase',data=df,hue='Gender')\n",
    "plt.show()"
   ]
  },
  {
   "cell_type": "code",
   "execution_count": null,
   "id": "407c24cc",
   "metadata": {},
   "outputs": [],
   "source": [
    "plt.figure(figsize=(17,5))\n",
    "sns.barplot('Product_Category_2','Purchase',data=df,hue='Gender')\n",
    "plt.show()"
   ]
  },
  {
   "cell_type": "code",
   "execution_count": null,
   "id": "c86183ec",
   "metadata": {},
   "outputs": [],
   "source": [
    "plt.figure(figsize=(17,5))\n",
    "sns.barplot('Product_Category_3','Purchase',data=df,hue='Gender')\n",
    "plt.show()"
   ]
  }
 ],
 "metadata": {
  "kernelspec": {
   "display_name": "Python 3 (ipykernel)",
   "language": "python",
   "name": "python3"
  },
  "language_info": {
   "codemirror_mode": {
    "name": "ipython",
    "version": 3
   },
   "file_extension": ".py",
   "mimetype": "text/x-python",
   "name": "python",
   "nbconvert_exporter": "python",
   "pygments_lexer": "ipython3",
   "version": "3.9.12"
  }
 },
 "nbformat": 4,
 "nbformat_minor": 5
}
